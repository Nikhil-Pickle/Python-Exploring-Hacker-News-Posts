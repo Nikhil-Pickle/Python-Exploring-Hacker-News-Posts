{
 "cells": [
  {
   "cell_type": "markdown",
   "metadata": {
    "collapsed": true
   },
   "source": [
    "## Exploring Hacker News Posts\n",
    "\n",
    "[Hacker News](https://news.ycombinator.com/) is a site started by the startup incubator Y Combinator, where user-submitted stories (known as \"posts\") receive votes and comments, similar to reddit. Hacker News is extremely popular in technology and startup circles, and posts that make it to the top of the Hacker News listings can get hundreds of thousands of visitors as a result.\n",
    "\n",
    "We're specifically interested in posts with titles that begin with either Ask HN or Show HN. Users submit Ask HN posts to ask the Hacker News community a specific question, or submit Show HN posts to showcase their work.\n",
    "\n",
    "We'll compare these two types of posts to determine the following:\n",
    "\n",
    "    Do Ask HN or Show HN receive more comments on average?\n",
    "    Do posts created at a certain time receive more comments on average?\n",
    "\n",
    "The dataset can be downloaded here.\n"
   ]
  },
  {
   "cell_type": "code",
   "execution_count": 1,
   "metadata": {},
   "outputs": [
    {
     "name": "stdout",
     "output_type": "stream",
     "text": [
      "['id', 'title', 'url', 'num_points', 'num_comments', 'author', 'created_at']\n",
      "\n",
      "\n",
      "['12224879', 'Interactive Dynamic Video', 'http://www.interactivedynamicvideo.com/', '386', '52', 'ne0phyte', '8/4/2016 11:52']\n",
      "\n",
      "\n",
      "['10975351', 'How to Use Open Source and Shut the Fuck Up at the Same Time', 'http://hueniverse.com/2016/01/26/how-to-use-open-source-and-shut-the-fuck-up-at-the-same-time/', '39', '10', 'josep2', '1/26/2016 19:30']\n",
      "\n",
      "\n",
      "['11964716', \"Florida DJs May Face Felony for April Fools' Water Joke\", 'http://www.thewire.com/entertainment/2013/04/florida-djs-april-fools-water-joke/63798/', '2', '1', 'vezycash', '6/23/2016 22:20']\n",
      "\n",
      "\n",
      "['11919867', 'Technology ventures: From Idea to Enterprise', 'https://www.amazon.com/Technology-Ventures-Enterprise-Thomas-Byers/dp/0073523429', '3', '1', 'hswarna', '6/17/2016 0:01']\n",
      "\n",
      "\n",
      "['10301696', 'Note by Note: The Making of Steinway L1037 (2007)', 'http://www.nytimes.com/2007/11/07/movies/07stein.html?_r=0', '8', '2', 'walterbell', '9/30/2015 4:12']\n",
      "\n",
      "\n",
      "['10482257', 'Title II kills investment? Comcast and other ISPs are now spending more', 'http://arstechnica.com/business/2015/10/comcast-and-other-isps-boost-network-investment-despite-net-neutrality/', '53', '22', 'Deinos', '10/31/2015 9:48']\n"
     ]
    }
   ],
   "source": [
    "# importing the file\n",
    "from csv import reader\n",
    "opened_file = open('hacker_news.csv')\n",
    "read_file = reader(opened_file)\n",
    "hn = list(read_file)\n",
    "headers = hn[0]\n",
    "hn = hn[1:]\n",
    "\n",
    "# custom function to display the list of lists neatly for easier readability\n",
    "def print_nested_list(nested_list): \n",
    "    for inner_list in nested_list:\n",
    "        print(\"\\n\")\n",
    "        print(inner_list)\n",
    "\n",
    "# print first 5 rows\n",
    "print(headers)\n",
    "print_nested_list(hn[:6])\n"
   ]
  },
  {
   "cell_type": "code",
   "execution_count": 2,
   "metadata": {},
   "outputs": [
    {
     "name": "stdout",
     "output_type": "stream",
     "text": [
      "Number of 'Ask HN' rows is 1744\n",
      "Number of 'Show HN' rows is 1162\n",
      "Number of all other rows is  17194\n"
     ]
    }
   ],
   "source": [
    "#empty lists that will soon be populated with it's corresponding posts\n",
    "ask_posts = []\n",
    "show_posts = []\n",
    "other_posts = []\n",
    "\n",
    "#loop through the entire dataset, adding it to the appropriate list category above\n",
    "for row in hn:\n",
    "    title = row[1]\n",
    "    if title.lower().startswith('ask hn'): #\"Ask HN\" titles go in the ask_posts list above\n",
    "        ask_posts.append(row)\n",
    "    elif title.lower().startswith('show hn'):\n",
    "        show_posts.append(row)\n",
    "    else:\n",
    "        other_posts.append(row)\n",
    "\n",
    "#counting the number titles in each category\n",
    "ask_count = len(ask_posts)\n",
    "show_count = len(show_posts)\n",
    "other_count = len(other_posts)\n",
    "\n",
    "print(f\"Number of 'Ask HN' rows is {ask_count}\")\n",
    "print(f\"Number of 'Show HN' rows is {show_count}\")\n",
    "print(f\"Number of all other rows is  {other_count}\")\n",
    "\n"
   ]
  },
  {
   "cell_type": "code",
   "execution_count": 3,
   "metadata": {
    "scrolled": true
   },
   "outputs": [
    {
     "name": "stdout",
     "output_type": "stream",
     "text": [
      "Average number of comments on an ask post is: 14.038417431192661\n",
      "Average number of comments on an show post is: 10.31669535283993\n"
     ]
    }
   ],
   "source": [
    "#counting the total number of comments within the \"Ask HN\" list category\n",
    "total_ask_comments = 0\n",
    "for row in ask_posts: #for each row in the ask_posts list\n",
    "    num_comments = int(row[4])\n",
    "    total_ask_comments += num_comments #add the comment count to the total comment count\n",
    "\n",
    "#finding the average number of comments\n",
    "avg_ask_comments = total_ask_comments / ask_count\n",
    "\n",
    "print(\"Average number of comments on an ask post is:\",avg_ask_comments)\n",
    "\n",
    "#same as the above code, but now for \"Show HN\" posts\n",
    "total_show_comments = 0\n",
    "\n",
    "for row in show_posts:\n",
    "    num_comments = int(row[4])\n",
    "    total_show_comments += num_comments\n",
    "    \n",
    "avg_show_comments = total_show_comments / show_count\n",
    "\n",
    "print(\"Average number of comments on an show post is:\",avg_show_comments)\n"
   ]
  },
  {
   "cell_type": "markdown",
   "metadata": {},
   "source": [
    "On average, \"Ask HN\" posts receive more comments than \"Show HN\" posts."
   ]
  },
  {
   "cell_type": "code",
   "execution_count": 4,
   "metadata": {},
   "outputs": [
    {
     "name": "stdout",
     "output_type": "stream",
     "text": [
      "{'09': 45, '13': 85, '10': 59, '14': 107, '16': 108, '23': 68, '12': 73, '17': 100, '15': 116, '21': 109, '20': 80, '02': 58, '18': 109, '03': 54, '05': 46, '19': 110, '01': 60, '22': 71, '08': 48, '04': 47, '00': 55, '06': 44, '07': 34, '11': 58}\n",
      "{'09': 251, '13': 1253, '10': 793, '14': 1416, '16': 1814, '23': 543, '12': 687, '17': 1146, '15': 4477, '21': 1745, '20': 1722, '02': 1381, '18': 1439, '03': 421, '05': 464, '19': 1188, '01': 683, '22': 479, '08': 492, '04': 337, '00': 447, '06': 397, '07': 267, '11': 641}\n"
     ]
    }
   ],
   "source": [
    "import datetime as dt\n",
    "\n",
    "result_list = [] \n",
    "\n",
    "for row in ask_posts: # adding the time and comment count of ASK HN posts to the above list\n",
    "    created_at = row[6]\n",
    "    comment_count = int(row[4])\n",
    "    result_list.append([created_at, comment_count])\n",
    "\n",
    "counts_by_hour = {} #number of ASK HN posts, in the hour\n",
    "comments_by_hour = {} #total number of comments on every ASK HN post, in the hour\n",
    "\n",
    "for row in result_list:\n",
    "    date_st = row[0]\n",
    "    date_dt = dt.datetime.strptime(date_st, \"%m/%d/%Y %H:%M\")\n",
    "    hour = date_dt.strftime(\"%H\")\n",
    "    if hour not in counts_by_hour:\n",
    "        counts_by_hour[hour] = 1\n",
    "        comments_by_hour[hour] = row[1]\n",
    "    else:\n",
    "        counts_by_hour[hour] += 1\n",
    "        comments_by_hour[hour] += row[1]\n",
    "\n",
    "print(counts_by_hour)\n",
    "print(comments_by_hour)\n"
   ]
  },
  {
   "cell_type": "code",
   "execution_count": 5,
   "metadata": {
    "scrolled": true
   },
   "outputs": [
    {
     "name": "stdout",
     "output_type": "stream",
     "text": [
      "[['09', 5.5777777777777775, 2], ['13', 14.741176470588234, 2], ['10', 13.440677966101696, 2], ['14', 13.233644859813085, 2], ['16', 16.796296296296298, 2], ['23', 7.985294117647059, 2], ['12', 9.41095890410959, 2], ['17', 11.46, 2], ['15', 38.5948275862069, 2], ['21', 16.009174311926607, 2], ['20', 21.525, 2], ['02', 23.810344827586206, 2], ['18', 13.20183486238532, 2], ['03', 7.796296296296297, 2], ['05', 10.08695652173913, 2], ['19', 10.8, 2], ['01', 11.383333333333333, 2], ['22', 6.746478873239437, 2], ['08', 10.25, 2], ['04', 7.170212765957447, 2], ['00', 8.127272727272727, 2], ['06', 9.022727272727273, 2], ['07', 7.852941176470588, 2], ['11', 11.051724137931034, 2]]\n"
     ]
    }
   ],
   "source": [
    "avg_by_hour = [] # the average number of ASK HN comments per ASK HN post, within the hour\n",
    "\n",
    "for hour in counts_by_hour:\n",
    "    avg_by_hour.append([hour, comments_by_hour[hour] / counts_by_hour[hour], 2])\n",
    "\n",
    "print(avg_by_hour)\n",
    "\n",
    "\n"
   ]
  },
  {
   "cell_type": "code",
   "execution_count": 6,
   "metadata": {
    "scrolled": true
   },
   "outputs": [
    {
     "name": "stdout",
     "output_type": "stream",
     "text": [
      "[[5.5777777777777775, '09'], [14.741176470588234, '13'], [13.440677966101696, '10'], [13.233644859813085, '14'], [16.796296296296298, '16'], [7.985294117647059, '23'], [9.41095890410959, '12'], [11.46, '17'], [38.5948275862069, '15'], [16.009174311926607, '21'], [21.525, '20'], [23.810344827586206, '02'], [13.20183486238532, '18'], [7.796296296296297, '03'], [10.08695652173913, '05'], [10.8, '19'], [11.383333333333333, '01'], [6.746478873239437, '22'], [10.25, '08'], [7.170212765957447, '04'], [8.127272727272727, '00'], [9.022727272727273, '06'], [7.852941176470588, '07'], [11.051724137931034, '11']]\n",
      "Top 5 Hours for 'Ask HM' Posts Comments\n",
      "15:00: 38.59 average comments per post\n",
      "02:00: 23.81 average comments per post\n",
      "20:00: 21.52 average comments per post\n",
      "16:00: 16.80 average comments per post\n",
      "21:00: 16.01 average comments per post\n"
     ]
    }
   ],
   "source": [
    "#code below serves to sort and find the top 5 hours by average number of comments of HN posts\n",
    "swap_avg_by_hour = []\n",
    "\n",
    "for row in avg_by_hour:\n",
    "    swap_avg_by_hour.append([row[1], row[0]])\n",
    "    \n",
    "print(swap_avg_by_hour)\n",
    "\n",
    "sorted_swap = sorted(swap_avg_by_hour, reverse=True)\n",
    "\n",
    "print(\"Top 5 Hours for 'Ask HM' Posts Comments\")\n",
    "\n",
    "for row in sorted_swap[:5]:\n",
    "    hour_dt = dt.datetime.strptime(row[1], \"%H\")\n",
    "    hour = hour_dt.strftime(\"%H:%M\")\n",
    "    string = \"{0}: {1:.2f} average comments per post\".format(hour,row[0])\n",
    "    print(string)\n",
    "    "
   ]
  },
  {
   "cell_type": "markdown",
   "metadata": {},
   "source": [
    "# Conclusion\n",
    "\n",
    "\n",
    "### Do Ask HN or Show HN receive more comments on average?\n",
    "\n",
    "On average, \"Ask HN\" posts receive more comments than \"Show HN\" posts.\n",
    "\n",
    "### Do posts created at a certain time receive more comments on average?\n",
    "\n",
    "In order to receive a higher number of comments on an \"Ask HN\" post, it's best to post at the following  times:\n",
    "\n",
    "15:00 \n",
    "02:00 \n",
    "20:00 \n",
    "16:00 \n",
    "21:00 "
   ]
  }
 ],
 "metadata": {
  "kernelspec": {
   "display_name": "Python 3",
   "language": "python",
   "name": "python3"
  },
  "language_info": {
   "codemirror_mode": {
    "name": "ipython",
    "version": 3
   },
   "file_extension": ".py",
   "mimetype": "text/x-python",
   "name": "python",
   "nbconvert_exporter": "python",
   "pygments_lexer": "ipython3",
   "version": "3.8.2"
  }
 },
 "nbformat": 4,
 "nbformat_minor": 2
}
